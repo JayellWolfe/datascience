{
  "nbformat": 4,
  "nbformat_minor": 0,
  "metadata": {
    "colab": {
      "name": "Unit4BWSaltyHackerNews.ipynb",
      "provenance": [],
      "collapsed_sections": []
    },
    "kernelspec": {
      "name": "python3",
      "display_name": "Python 3"
    }
  },
  "cells": [
    {
      "cell_type": "code",
      "metadata": {
        "id": "Op0lADnOt791",
        "colab_type": "code",
        "outputId": "0db98978-7519-48e2-da6d-561bda6b877f",
        "colab": {
          "base_uri": "https://localhost:8080/",
          "height": 53
        }
      },
      "source": [
        "#imports\n",
        "import pandas as pd\n",
        "import numpy as np\n",
        "import matplotlib.pyplot as plt\n",
        "import nltk\n",
        "import random\n",
        "import re\n",
        "from nltk import word_tokenize, sent_tokenize\n",
        "from nltk.corpus import stopwords\n",
        "from nltk.stem import LancasterStemmer, WordNetLemmatizer, PorterStemmer\n",
        "from wordcloud import WordCloud, STOPWORDS\n",
        "from textblob import TextBlob\n",
        "nltk.download('stopwords')\n",
        "from nltk.corpus import stopwords"
      ],
      "execution_count": 0,
      "outputs": [
        {
          "output_type": "stream",
          "text": [
            "[nltk_data] Downloading package stopwords to /root/nltk_data...\n",
            "[nltk_data]   Package stopwords is already up-to-date!\n"
          ],
          "name": "stdout"
        }
      ]
    },
    {
      "cell_type": "code",
      "metadata": {
        "id": "OTmw7BeWt-V5",
        "colab_type": "code",
        "outputId": "777b6229-ec5f-45b2-a9c4-f15a79f42491",
        "colab": {
          "base_uri": "https://localhost:8080/",
          "height": 204
        }
      },
      "source": [
        "#read in data:\n",
        "df = pd.read_csv('saltyhacker.csv')\n",
        "\n",
        "df.head(5)"
      ],
      "execution_count": 0,
      "outputs": [
        {
          "output_type": "execute_result",
          "data": {
            "text/html": [
              "<div>\n",
              "<style scoped>\n",
              "    .dataframe tbody tr th:only-of-type {\n",
              "        vertical-align: middle;\n",
              "    }\n",
              "\n",
              "    .dataframe tbody tr th {\n",
              "        vertical-align: top;\n",
              "    }\n",
              "\n",
              "    .dataframe thead th {\n",
              "        text-align: right;\n",
              "    }\n",
              "</style>\n",
              "<table border=\"1\" class=\"dataframe\">\n",
              "  <thead>\n",
              "    <tr style=\"text-align: right;\">\n",
              "      <th></th>\n",
              "      <th>Unnamed: 0</th>\n",
              "      <th>User</th>\n",
              "      <th>Text</th>\n",
              "    </tr>\n",
              "  </thead>\n",
              "  <tbody>\n",
              "    <tr>\n",
              "      <th>0</th>\n",
              "      <td>0</td>\n",
              "      <td>thu2111</td>\n",
              "      <td>Did those people criticise other epidemiologis...</td>\n",
              "    </tr>\n",
              "    <tr>\n",
              "      <th>1</th>\n",
              "      <td>1</td>\n",
              "      <td>noisy_boy</td>\n",
              "      <td>I like Aliexpress because most of the times I ...</td>\n",
              "    </tr>\n",
              "    <tr>\n",
              "      <th>2</th>\n",
              "      <td>2</td>\n",
              "      <td>lopis</td>\n",
              "      <td>Doesn&amp;#x27;t really matter. The progression of...</td>\n",
              "    </tr>\n",
              "    <tr>\n",
              "      <th>3</th>\n",
              "      <td>3</td>\n",
              "      <td>aexol</td>\n",
              "      <td>I have added docs generator for GraphQL Editor...</td>\n",
              "    </tr>\n",
              "    <tr>\n",
              "      <th>4</th>\n",
              "      <td>4</td>\n",
              "      <td>frockington1</td>\n",
              "      <td>I haven;t seen any non sensationalized evidenc...</td>\n",
              "    </tr>\n",
              "  </tbody>\n",
              "</table>\n",
              "</div>"
            ],
            "text/plain": [
              "   Unnamed: 0          User                                               Text\n",
              "0           0       thu2111  Did those people criticise other epidemiologis...\n",
              "1           1     noisy_boy  I like Aliexpress because most of the times I ...\n",
              "2           2         lopis  Doesn&#x27;t really matter. The progression of...\n",
              "3           3         aexol  I have added docs generator for GraphQL Editor...\n",
              "4           4  frockington1  I haven;t seen any non sensationalized evidenc..."
            ]
          },
          "metadata": {
            "tags": []
          },
          "execution_count": 2
        }
      ]
    },
    {
      "cell_type": "code",
      "metadata": {
        "id": "0aOW6I4tt_VG",
        "colab_type": "code",
        "outputId": "286eaea4-44c4-4209-addc-b4e7e0b1a7ec",
        "colab": {
          "base_uri": "https://localhost:8080/",
          "height": 198
        }
      },
      "source": [
        "df.info()"
      ],
      "execution_count": 0,
      "outputs": [
        {
          "output_type": "stream",
          "text": [
            "<class 'pandas.core.frame.DataFrame'>\n",
            "RangeIndex: 1679 entries, 0 to 1678\n",
            "Data columns (total 3 columns):\n",
            " #   Column      Non-Null Count  Dtype \n",
            "---  ------      --------------  ----- \n",
            " 0   Unnamed: 0  1679 non-null   int64 \n",
            " 1   User        1642 non-null   object\n",
            " 2   Text        1642 non-null   object\n",
            "dtypes: int64(1), object(2)\n",
            "memory usage: 39.5+ KB\n"
          ],
          "name": "stdout"
        }
      ]
    },
    {
      "cell_type": "code",
      "metadata": {
        "id": "R3M5Gt5fuAHu",
        "colab_type": "code",
        "outputId": "29a8c85d-e189-4322-a270-b66a0d722fb4",
        "colab": {
          "base_uri": "https://localhost:8080/",
          "height": 126
        }
      },
      "source": [
        "df.Text.head(5)"
      ],
      "execution_count": 0,
      "outputs": [
        {
          "output_type": "execute_result",
          "data": {
            "text/plain": [
              "0    Did those people criticise other epidemiologis...\n",
              "1    I like Aliexpress because most of the times I ...\n",
              "2    Doesn&#x27;t really matter. The progression of...\n",
              "3    I have added docs generator for GraphQL Editor...\n",
              "4    I haven;t seen any non sensationalized evidenc...\n",
              "Name: Text, dtype: object"
            ]
          },
          "metadata": {
            "tags": []
          },
          "execution_count": 4
        }
      ]
    },
    {
      "cell_type": "code",
      "metadata": {
        "id": "YBapqudWuBdG",
        "colab_type": "code",
        "outputId": "2bd45099-4c77-4306-abbe-1995b60b6d57",
        "colab": {
          "base_uri": "https://localhost:8080/",
          "height": 35
        }
      },
      "source": [
        "df.columns"
      ],
      "execution_count": 0,
      "outputs": [
        {
          "output_type": "execute_result",
          "data": {
            "text/plain": [
              "Index(['Unnamed: 0', 'User', 'Text'], dtype='object')"
            ]
          },
          "metadata": {
            "tags": []
          },
          "execution_count": 5
        }
      ]
    },
    {
      "cell_type": "code",
      "metadata": {
        "id": "6U8dodr48O1A",
        "colab_type": "code",
        "outputId": "ff3424c9-66d2-4e00-bd4c-c965f6a3eb90",
        "colab": {
          "base_uri": "https://localhost:8080/",
          "height": 35
        }
      },
      "source": [
        "df.shape"
      ],
      "execution_count": 0,
      "outputs": [
        {
          "output_type": "execute_result",
          "data": {
            "text/plain": [
              "(1679, 3)"
            ]
          },
          "metadata": {
            "tags": []
          },
          "execution_count": 6
        }
      ]
    },
    {
      "cell_type": "code",
      "metadata": {
        "id": "NM37ocXQ5hou",
        "colab_type": "code",
        "colab": {}
      },
      "source": [
        "#convert to string\n",
        "df['Text'] = df['Text'].astype(str)"
      ],
      "execution_count": 0,
      "outputs": []
    },
    {
      "cell_type": "code",
      "metadata": {
        "id": "HO4O1VmN8iKb",
        "colab_type": "code",
        "outputId": "d65ed7a7-bf9a-4cf1-b112-501bc8a4a5ce",
        "colab": {
          "base_uri": "https://localhost:8080/",
          "height": 55
        }
      },
      "source": [
        "#before converting to lower:\n",
        "df['Text'][2]"
      ],
      "execution_count": 0,
      "outputs": [
        {
          "output_type": "execute_result",
          "data": {
            "text/plain": [
              "'Doesn&#x27;t really matter. The progression of the seasons is slow enough that I can get used to the apparent movement of the morning sun and always know more of less if it&#x27;s about 6am, 7am, 8am, or 9am. Don&#x27;t really use alarms. It&#x27;s great, until the time changes (DST) and throws my sleep schedule completely off the window ugh.'"
            ]
          },
          "metadata": {
            "tags": []
          },
          "execution_count": 8
        }
      ]
    },
    {
      "cell_type": "code",
      "metadata": {
        "id": "FDzy3jjz5qsG",
        "colab_type": "code",
        "outputId": "25538f1a-6420-47d6-95c0-16d9155b8221",
        "colab": {
          "base_uri": "https://localhost:8080/",
          "height": 55
        }
      },
      "source": [
        "#convert to lower case\n",
        "df['Text'] = df['Text'].apply(lambda x: ' '.join(x.lower() for x in x.split()))\n",
        "\n",
        "df['Text'][2]"
      ],
      "execution_count": 0,
      "outputs": [
        {
          "output_type": "execute_result",
          "data": {
            "text/plain": [
              "'doesn&#x27;t really matter. the progression of the seasons is slow enough that i can get used to the apparent movement of the morning sun and always know more of less if it&#x27;s about 6am, 7am, 8am, or 9am. don&#x27;t really use alarms. it&#x27;s great, until the time changes (dst) and throws my sleep schedule completely off the window ugh.'"
            ]
          },
          "metadata": {
            "tags": []
          },
          "execution_count": 9
        }
      ]
    },
    {
      "cell_type": "code",
      "metadata": {
        "id": "GP-d83ni6Qr8",
        "colab_type": "code",
        "outputId": "6a3e1f67-2d87-4421-e3e7-299a2393dfc8",
        "colab": {
          "base_uri": "https://localhost:8080/",
          "height": 55
        }
      },
      "source": [
        "#stopwords:\n",
        "stop = stopwords.words('english')\n",
        "df['Text'] = df['Text'].apply(lambda x: \" \".join(x for x in x.split() if x not in stop))\n",
        "df['Text'][2]"
      ],
      "execution_count": 0,
      "outputs": [
        {
          "output_type": "execute_result",
          "data": {
            "text/plain": [
              "'doesn&#x27;t really matter. progression seasons slow enough get used apparent movement morning sun always know less it&#x27;s 6am, 7am, 8am, 9am. don&#x27;t really use alarms. it&#x27;s great, time changes (dst) throws sleep schedule completely window ugh.'"
            ]
          },
          "metadata": {
            "tags": []
          },
          "execution_count": 10
        }
      ]
    },
    {
      "cell_type": "code",
      "metadata": {
        "id": "lyoY2CHT6fVN",
        "colab_type": "code",
        "outputId": "ca105ba6-7595-4167-e890-5b0aebf8c146",
        "colab": {
          "base_uri": "https://localhost:8080/",
          "height": 55
        }
      },
      "source": [
        "#stemming\n",
        "st = PorterStemmer()\n",
        "df['Text'] = df['Text'].apply(lambda x: \" \".join([st.stem(word) for word in x.split()]))\n",
        "df['Text'][2]"
      ],
      "execution_count": 0,
      "outputs": [
        {
          "output_type": "execute_result",
          "data": {
            "text/plain": [
              "'doesn&#x27;t realli matter. progress season slow enough get use appar movement morn sun alway know less it&#x27; 6am, 7am, 8am, 9am. don&#x27;t realli use alarms. it&#x27; great, time chang (dst) throw sleep schedul complet window ugh.'"
            ]
          },
          "metadata": {
            "tags": []
          },
          "execution_count": 11
        }
      ]
    },
    {
      "cell_type": "code",
      "metadata": {
        "id": "XQ-VdEjp7NIx",
        "colab_type": "code",
        "outputId": "8eb7f60c-d691-435b-aa6c-d858f335ce46",
        "colab": {
          "base_uri": "https://localhost:8080/",
          "height": 941
        }
      },
      "source": [
        "#sentiment score\n",
        "def sent(x):\n",
        "  return TextBlob(x).sentiment\n",
        "\n",
        "df['sent_score'] = df['Text'].apply(sent)\n",
        "\n",
        "df.sent_score.head(50)"
      ],
      "execution_count": 0,
      "outputs": [
        {
          "output_type": "execute_result",
          "data": {
            "text/plain": [
              "0                  (-0.19999999999999996, 0.309375)\n",
              "1       (-0.24833333333333335, 0.46833333333333327)\n",
              "2        (0.08333333333333334, 0.42916666666666664)\n",
              "3                                    (0.25, 0.5125)\n",
              "4                                      (-0.05, 0.4)\n",
              "5     (-0.0016666666666666774, 0.45055555555555554)\n",
              "6         (0.03727272727272727, 0.4442424242424242)\n",
              "7       (-0.11525974025974024, 0.39675324675324675)\n",
              "8                                        (0.0, 0.0)\n",
              "9                                        (0.0, 0.0)\n",
              "10                        (0.5, 0.8888888888888888)\n",
              "11       (0.08333333333333333, 0.08333333333333333)\n",
              "12                                       (0.0, 0.0)\n",
              "13                                    (-0.15, 0.35)\n",
              "14        (0.26666666666666666, 0.5333333333333333)\n",
              "15                     (0.11499999999999999, 0.515)\n",
              "16                      (0.225, 0.6444444444444444)\n",
              "17                                       (0.0, 0.0)\n",
              "18                                       (0.0, 0.0)\n",
              "19                                     (0.08, 0.52)\n",
              "20                (0.0031250000000000028, 0.384375)\n",
              "21       (-0.04666666666666666, 0.3466666666666667)\n",
              "22                                       (0.0, 0.0)\n",
              "23                                      (-0.4, 0.7)\n",
              "24      (-0.06666666666666667, 0.16666666666666666)\n",
              "25                                       (0.0, 0.0)\n",
              "26                                       (0.0, 0.0)\n",
              "27                                      (0.75, 1.0)\n",
              "28        (-0.3499999999999999, 0.3333333333333333)\n",
              "29       (0.19632653061224487, 0.43547619047619046)\n",
              "30                                       (0.0, 0.0)\n",
              "31                       (0.0, 0.03333333333333333)\n",
              "32                                       (0.5, 0.5)\n",
              "33                                       (0.0, 0.1)\n",
              "34                                       (0.0, 0.0)\n",
              "35                                       (0.0, 0.0)\n",
              "36                        (0.4166666666666667, 0.5)\n",
              "37                       (0.25, 0.5388888888888889)\n",
              "38                                       (0.0, 0.4)\n",
              "39                                      (-0.5, 1.0)\n",
              "40      (-0.07250000000000001, 0.44749999999999995)\n",
              "41        (0.07857142857142857, 0.4886904761904762)\n",
              "42      (-0.08333333333333333, 0.08333333333333334)\n",
              "43                                       (0.3, 0.9)\n",
              "44                                (-0.3125, 0.6875)\n",
              "45        (0.18333333333333335, 0.3833333333333333)\n",
              "46                       (0.0, 0.28846153846153844)\n",
              "47       (-0.17727272727272725, 0.6181818181818182)\n",
              "48                                       (0.0, 0.0)\n",
              "49                                      (0.25, 1.0)\n",
              "Name: sent_score, dtype: object"
            ]
          },
          "metadata": {
            "tags": []
          },
          "execution_count": 12
        }
      ]
    },
    {
      "cell_type": "code",
      "metadata": {
        "id": "o-M914Vb7tFp",
        "colab_type": "code",
        "colab": {}
      },
      "source": [
        "#the two scores are : the first is sentiment polarity(pos or neg) and the\n",
        "#second score is subjectivity (how subjective the text is) "
      ],
      "execution_count": 0,
      "outputs": []
    }
  ]
}