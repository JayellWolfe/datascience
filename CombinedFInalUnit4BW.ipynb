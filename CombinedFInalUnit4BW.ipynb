{
  "nbformat": 4,
  "nbformat_minor": 0,
  "metadata": {
    "colab": {
      "name": "CombinedFInalUnit4BW.ipynb",
      "provenance": [],
      "collapsed_sections": []
    },
    "kernelspec": {
      "name": "python3",
      "display_name": "Python 3"
    }
  },
  "cells": [
    {
      "cell_type": "code",
      "metadata": {
        "id": "lBNOQZHf_dwf",
        "colab_type": "code",
        "colab": {
          "base_uri": "https://localhost:8080/",
          "height": 102
        },
        "outputId": "8cdde157-fac8-46ad-d35b-488370bac2e7"
      },
      "source": [
        "#imports\n",
        "import pandas as pd\n",
        "import numpy as np\n",
        "import matplotlib.pyplot as plt\n",
        "import nltk\n",
        "import random\n",
        "import re\n",
        "from nltk import word_tokenize, sent_tokenize\n",
        "from nltk.corpus import stopwords\n",
        "from nltk.stem import LancasterStemmer, WordNetLemmatizer, PorterStemmer\n",
        "from wordcloud import WordCloud, STOPWORDS\n",
        "from textblob import TextBlob,Word, Blobber\n",
        "nltk.download('stopwords')\n",
        "from nltk.sentiment.vader import SentimentIntensityAnalyzer\n",
        "from sklearn.metrics import f1_score, accuracy_score\n",
        "import html\n",
        "from html.parser import HTMLParser"
      ],
      "execution_count": 1,
      "outputs": [
        {
          "output_type": "stream",
          "text": [
            "[nltk_data] Downloading package stopwords to /root/nltk_data...\n",
            "[nltk_data]   Package stopwords is already up-to-date!\n"
          ],
          "name": "stdout"
        },
        {
          "output_type": "stream",
          "text": [
            "/usr/local/lib/python3.6/dist-packages/nltk/twitter/__init__.py:20: UserWarning: The twython library has not been installed. Some functionality from the twitter package will not be available.\n",
            "  warnings.warn(\"The twython library has not been installed. \"\n"
          ],
          "name": "stderr"
        }
      ]
    },
    {
      "cell_type": "code",
      "metadata": {
        "id": "xVB6s8NT_nj4",
        "colab_type": "code",
        "colab": {
          "base_uri": "https://localhost:8080/",
          "height": 191
        },
        "outputId": "9b541211-0cb7-4237-9daa-a15476cbcc5f"
      },
      "source": [
        "#read in data:\n",
        "df = pd.read_csv('saltyhacker.csv')\n",
        "\n",
        "df.head(5)"
      ],
      "execution_count": 2,
      "outputs": [
        {
          "output_type": "execute_result",
          "data": {
            "text/html": [
              "<div>\n",
              "<style scoped>\n",
              "    .dataframe tbody tr th:only-of-type {\n",
              "        vertical-align: middle;\n",
              "    }\n",
              "\n",
              "    .dataframe tbody tr th {\n",
              "        vertical-align: top;\n",
              "    }\n",
              "\n",
              "    .dataframe thead th {\n",
              "        text-align: right;\n",
              "    }\n",
              "</style>\n",
              "<table border=\"1\" class=\"dataframe\">\n",
              "  <thead>\n",
              "    <tr style=\"text-align: right;\">\n",
              "      <th></th>\n",
              "      <th>Unnamed: 0</th>\n",
              "      <th>User</th>\n",
              "      <th>Text</th>\n",
              "    </tr>\n",
              "  </thead>\n",
              "  <tbody>\n",
              "    <tr>\n",
              "      <th>0</th>\n",
              "      <td>0</td>\n",
              "      <td>thu2111</td>\n",
              "      <td>Did those people criticise other epidemiologis...</td>\n",
              "    </tr>\n",
              "    <tr>\n",
              "      <th>1</th>\n",
              "      <td>1</td>\n",
              "      <td>noisy_boy</td>\n",
              "      <td>I like Aliexpress because most of the times I ...</td>\n",
              "    </tr>\n",
              "    <tr>\n",
              "      <th>2</th>\n",
              "      <td>2</td>\n",
              "      <td>lopis</td>\n",
              "      <td>Doesn&amp;#x27;t really matter. The progression of...</td>\n",
              "    </tr>\n",
              "    <tr>\n",
              "      <th>3</th>\n",
              "      <td>3</td>\n",
              "      <td>aexol</td>\n",
              "      <td>I have added docs generator for GraphQL Editor...</td>\n",
              "    </tr>\n",
              "    <tr>\n",
              "      <th>4</th>\n",
              "      <td>4</td>\n",
              "      <td>frockington1</td>\n",
              "      <td>I haven;t seen any non sensationalized evidenc...</td>\n",
              "    </tr>\n",
              "  </tbody>\n",
              "</table>\n",
              "</div>"
            ],
            "text/plain": [
              "   Unnamed: 0          User                                               Text\n",
              "0           0       thu2111  Did those people criticise other epidemiologis...\n",
              "1           1     noisy_boy  I like Aliexpress because most of the times I ...\n",
              "2           2         lopis  Doesn&#x27;t really matter. The progression of...\n",
              "3           3         aexol  I have added docs generator for GraphQL Editor...\n",
              "4           4  frockington1  I haven;t seen any non sensationalized evidenc..."
            ]
          },
          "metadata": {
            "tags": []
          },
          "execution_count": 2
        }
      ]
    },
    {
      "cell_type": "code",
      "metadata": {
        "id": "jktjE4AgfAjD",
        "colab_type": "code",
        "colab": {}
      },
      "source": [
        "#convert to string\n",
        "df['Text'] = df['Text'].astype(str)"
      ],
      "execution_count": 0,
      "outputs": []
    },
    {
      "cell_type": "code",
      "metadata": {
        "id": "LkSCG5b4_6Wu",
        "colab_type": "code",
        "colab": {
          "base_uri": "https://localhost:8080/",
          "height": 367
        },
        "outputId": "7cae3814-6d82-4895-d755-c76b8fd345af"
      },
      "source": [
        "def cleanup_html(raw_html):\n",
        "    clean_html = re.sub(r'<.*?>', '', raw_html)\n",
        "    clean_html_http = re.sub(r'http\\S+([\\.]{3})?', '', clean_html)\n",
        "    clean_txt = html.unescape(clean_html)\n",
        "    return clean_txt\n",
        "df['Text'] = df['Text'].apply(cleanup_html)\n",
        "df.sample(10)\n",
        "for row in df['Text'].sample(10):\n",
        "    print(row)\n",
        "    print()"
      ],
      "execution_count": 4,
      "outputs": [
        {
          "output_type": "stream",
          "text": [
            "> Coronaviruses are easy to vaccinate against.From what I've read, creating a sufficiently safe vaccine has been quite a challenge.\n",
            "\n",
            "Clips from my friend in Goa show the street scene hasn't changed. People still loitering and buying things in the open air and forming dense crowds. From the clip maybe less than half had masks. Super disappointing and concerning.These numbers seem far to low given the flippant nature most city dwellers are appearing to have to this disease and taking necessary precautions. To me, this is the calm before the storm.\n",
            "\n",
            "Both the product and the landing pages are so generic that I would have a hard time calling them a rip off. Every major audio/smartphone company has a product with very similar featurset in their lineup, and this is just Google following suite.\n",
            "\n",
            "His comment is addressing thoughts about whether official numbers are off by a couple orders of magnitude\n",
            "\n",
            "The thing that worries me about NYC statistics is that they're awful, and we now have serum tests that indicate that -- at best -- we're about 1/3 of the way through.  (Current serum tests indicate 20-25% of NYC has caught it, current R0 estimates indicate that 70-85% would need to catch it for it to burn itself out without any additional measures.)This puts reasonable estimates of \"how bad can it get?\" at north of 5000 deaths per million, if we don't properly contain it.  This, really, is the new information we're getting out of US numbers.\n",
            "\n",
            "Google automatically refunds advertisers for fraudulent clicks each month. It's not a lot (maybe $1,000 refund on an account that spends $600k to 800k/month), but it's a line item on the invoice for sure. You have to trust them for what is a 'fraudulent' click though.\n",
            "\n",
            "I don't see any particular moral value in chores.Sure I could make my own shoes  but it doesn't interest me enough to bother, so I get them from a 2nd hand shop.I quite like sharpening, so I do that now and then.I don't feel that time spent vacuuming makes me a better person.I don't think using a washing machine is cheating.If I had a robot that could do most of my domestic chores I expect I would use it most of the time.\n",
            "\n",
            "Just imagine the complete mess their Desktop would be if the OS sent downloads there, lol.\n",
            "\n",
            ">I think there was a bit of a difference in quality up until about 15 years ago.Going by those excellent charts[1], there were two distinct \"kinks\" in intensity of change; around 2000 and around 2015.>the internetThe best explainer I've seen thus far is that loading articles with keywords improves searchability and readership metrics. My far fetched hypothesis is that it is a side effect of the present form of search - dominated by one vertical that has strayed far, far away from the original Page Rank idea.--[1] use of progressive keywords in newspapers, a thread https://twitter.com/ZachG932/status/1133441085118853120[1.1] more terms, NYT https://i.imgur.com/CZfsLsk.jpg\n",
            "\n",
            "I suppose I just don't believe that would happen. You can still practice social distancing/face masks/hand washing without shelter-in-place. I believe those three things alone would significantly slow down the spread to manageable levels. So I simply don't see a scenario where it \"grows unchecked\" to millions in the USA. It would hit millions eventually (like swine flu) but it would be manageable (not \"unchecked\"). Most of the US is geographically separated and not densely populated (except for cities like NYC), and we are only at 3M cases globally and that is with months of growth.Lastly, even if it grew unchecked, I don't believe overwhelming the healthcare system would crash the economy. It might devastate the healthcare industry, but it wouldn't devastate all industries like prolonged, no-end-in-sight lockdowns are doing.  I also don't believe it would \"kill [significant amounts of] young people\" because I believe the mortality rate is much lower than currently estimated.Suicide is already killing more young people than covid-19 due to lockdown. 2 USAFA cadets committed suicide because of lockdown orders this month, yet 0 cadets have died from covid-19.\n",
            "\n"
          ],
          "name": "stdout"
        }
      ]
    },
    {
      "cell_type": "code",
      "metadata": {
        "id": "HmUrBu0pd3Vz",
        "colab_type": "code",
        "colab": {}
      },
      "source": [
        "class MLStripper(HTMLParser):\n",
        "    def __init__(self):\n",
        "        super().__init__()\n",
        "        self.reset()\n",
        "        self.fed = []\n",
        "    def handle_data(self, d):\n",
        "        self.fed.append(d)\n",
        "    def get_data(self):\n",
        "        return ' '.join(self.fed)\n",
        "\n",
        "\n",
        "def strip_tags(html):\n",
        "    s = MLStripper()\n",
        "    s.feed(html)\n",
        "    return s.get_data()"
      ],
      "execution_count": 0,
      "outputs": []
    },
    {
      "cell_type": "code",
      "metadata": {
        "id": "rlcPd0kf_8hR",
        "colab_type": "code",
        "colab": {}
      },
      "source": [
        "df['Text']  = df['Text'].apply(html.unescape)"
      ],
      "execution_count": 0,
      "outputs": []
    },
    {
      "cell_type": "code",
      "metadata": {
        "id": "Bemx7xy4AT_e",
        "colab_type": "code",
        "colab": {
          "base_uri": "https://localhost:8080/",
          "height": 33
        },
        "outputId": "acd894c4-9361-4613-d7d3-7336e69a6c45"
      },
      "source": [
        "#before converting to lower:\n",
        "df['Text'][77]"
      ],
      "execution_count": 7,
      "outputs": [
        {
          "output_type": "execute_result",
          "data": {
            "text/plain": [
              "'Shoulder pads are back in'"
            ]
          },
          "metadata": {
            "tags": []
          },
          "execution_count": 7
        }
      ]
    },
    {
      "cell_type": "code",
      "metadata": {
        "id": "a7UbUOaZAU6y",
        "colab_type": "code",
        "colab": {
          "base_uri": "https://localhost:8080/",
          "height": 33
        },
        "outputId": "e87f1f69-49c8-44f2-87d4-188c4257e9cf"
      },
      "source": [
        "#convert to lower case\n",
        "df['Text'] = df['Text'].apply(lambda x: ' '.join(x.lower() for x in x.split()))\n",
        "\n",
        "df['Text'][77]"
      ],
      "execution_count": 8,
      "outputs": [
        {
          "output_type": "execute_result",
          "data": {
            "text/plain": [
              "'shoulder pads are back in'"
            ]
          },
          "metadata": {
            "tags": []
          },
          "execution_count": 8
        }
      ]
    },
    {
      "cell_type": "code",
      "metadata": {
        "id": "8beldDsWAuy5",
        "colab_type": "code",
        "colab": {
          "base_uri": "https://localhost:8080/",
          "height": 33
        },
        "outputId": "aaa5a827-b6ef-4971-fb5b-676a37e21409"
      },
      "source": [
        "#stopwords:\n",
        "stop = stopwords.words('english')\n",
        "df['Text'] = df['Text'].apply(lambda x: \" \".join(x for x in x.split() if x not in stop))\n",
        "df['Text'][77]"
      ],
      "execution_count": 9,
      "outputs": [
        {
          "output_type": "execute_result",
          "data": {
            "text/plain": [
              "'shoulder pads back'"
            ]
          },
          "metadata": {
            "tags": []
          },
          "execution_count": 9
        }
      ]
    },
    {
      "cell_type": "code",
      "metadata": {
        "id": "oe7kt8gjA0Yb",
        "colab_type": "code",
        "colab": {
          "base_uri": "https://localhost:8080/",
          "height": 33
        },
        "outputId": "a904dee1-dcff-457b-8622-2b1234cea593"
      },
      "source": [
        "#stemming\n",
        "st = PorterStemmer()\n",
        "df['Text'] = df['Text'].apply(lambda x: \" \".join([st.stem(word) for word in x.split()]))\n",
        "df['Text'][77]"
      ],
      "execution_count": 10,
      "outputs": [
        {
          "output_type": "execute_result",
          "data": {
            "text/plain": [
              "'shoulder pad back'"
            ]
          },
          "metadata": {
            "tags": []
          },
          "execution_count": 10
        }
      ]
    },
    {
      "cell_type": "code",
      "metadata": {
        "id": "e-ZoRC8qA749",
        "colab_type": "code",
        "colab": {
          "base_uri": "https://localhost:8080/",
          "height": 49
        },
        "outputId": "ac674ae6-d14e-4cbb-d83f-69e984cb2f19"
      },
      "source": [
        "#create object\n",
        "nltk.download('vader_lexicon')\n",
        "analyzer = SentimentIntensityAnalyzer()"
      ],
      "execution_count": 11,
      "outputs": [
        {
          "output_type": "stream",
          "text": [
            "[nltk_data] Downloading package vader_lexicon to /root/nltk_data...\n",
            "[nltk_data]   Package vader_lexicon is already up-to-date!\n"
          ],
          "name": "stdout"
        }
      ]
    },
    {
      "cell_type": "code",
      "metadata": {
        "id": "PIry5GLEBK7B",
        "colab_type": "code",
        "colab": {}
      },
      "source": [
        "#define analyzer\n",
        "def vaderize(sentence):\n",
        "    return analyzer.polarity_scores(sentence)"
      ],
      "execution_count": 0,
      "outputs": []
    },
    {
      "cell_type": "code",
      "metadata": {
        "id": "eNIC1-U_BIxv",
        "colab_type": "code",
        "colab": {}
      },
      "source": [
        "df['Scores'] = df['Text'].apply(vaderize)"
      ],
      "execution_count": 0,
      "outputs": []
    },
    {
      "cell_type": "code",
      "metadata": {
        "id": "Ys-Ksk6cBOgq",
        "colab_type": "code",
        "colab": {
          "base_uri": "https://localhost:8080/",
          "height": 336
        },
        "outputId": "fea55584-5f4d-4378-8b01-9390cfc5eba8"
      },
      "source": [
        "#check\n",
        "df.head(10)"
      ],
      "execution_count": 14,
      "outputs": [
        {
          "output_type": "execute_result",
          "data": {
            "text/html": [
              "<div>\n",
              "<style scoped>\n",
              "    .dataframe tbody tr th:only-of-type {\n",
              "        vertical-align: middle;\n",
              "    }\n",
              "\n",
              "    .dataframe tbody tr th {\n",
              "        vertical-align: top;\n",
              "    }\n",
              "\n",
              "    .dataframe thead th {\n",
              "        text-align: right;\n",
              "    }\n",
              "</style>\n",
              "<table border=\"1\" class=\"dataframe\">\n",
              "  <thead>\n",
              "    <tr style=\"text-align: right;\">\n",
              "      <th></th>\n",
              "      <th>Unnamed: 0</th>\n",
              "      <th>User</th>\n",
              "      <th>Text</th>\n",
              "      <th>Scores</th>\n",
              "    </tr>\n",
              "  </thead>\n",
              "  <tbody>\n",
              "    <tr>\n",
              "      <th>0</th>\n",
              "      <td>0</td>\n",
              "      <td>thu2111</td>\n",
              "      <td>peopl criticis epidemiologist same? immedi hol...</td>\n",
              "      <td>{'neg': 0.142, 'neu': 0.828, 'pos': 0.03, 'com...</td>\n",
              "    </tr>\n",
              "    <tr>\n",
              "      <th>1</th>\n",
              "      <td>1</td>\n",
              "      <td>noisy_boy</td>\n",
              "      <td>like aliexpress time even chat manufacturer/di...</td>\n",
              "      <td>{'neg': 0.095, 'neu': 0.838, 'pos': 0.068, 'co...</td>\n",
              "    </tr>\n",
              "    <tr>\n",
              "      <th>2</th>\n",
              "      <td>2</td>\n",
              "      <td>lopis</td>\n",
              "      <td>realli matter. progress season slow enough get...</td>\n",
              "      <td>{'neg': 0.123, 'neu': 0.677, 'pos': 0.201, 'co...</td>\n",
              "    </tr>\n",
              "    <tr>\n",
              "      <th>3</th>\n",
              "      <td>3</td>\n",
              "      <td>aexol</td>\n",
              "      <td>ad doc gener graphql editor. https://twitter.c...</td>\n",
              "      <td>{'neg': 0.0, 'neu': 1.0, 'pos': 0.0, 'compound...</td>\n",
              "    </tr>\n",
              "    <tr>\n",
              "      <th>4</th>\n",
              "      <td>4</td>\n",
              "      <td>frockington1</td>\n",
              "      <td>haven;t seen non sensation evid regard long te...</td>\n",
              "      <td>{'neg': 0.0, 'neu': 1.0, 'pos': 0.0, 'compound...</td>\n",
              "    </tr>\n",
              "    <tr>\n",
              "      <th>5</th>\n",
              "      <td>5</td>\n",
              "      <td>alpaca128</td>\n",
              "      <td>&gt; amazon compani reliabl show they'll deliver,...</td>\n",
              "      <td>{'neg': 0.049, 'neu': 0.841, 'pos': 0.11, 'com...</td>\n",
              "    </tr>\n",
              "    <tr>\n",
              "      <th>6</th>\n",
              "      <td>6</td>\n",
              "      <td>alkonaut</td>\n",
              "      <td>normal water heater?apart simplest model might...</td>\n",
              "      <td>{'neg': 0.0, 'neu': 1.0, 'pos': 0.0, 'compound...</td>\n",
              "    </tr>\n",
              "    <tr>\n",
              "      <th>7</th>\n",
              "      <td>7</td>\n",
              "      <td>giantg2</td>\n",
              "      <td>yes, that' textbook scenario make sens economi...</td>\n",
              "      <td>{'neg': 0.057, 'neu': 0.816, 'pos': 0.127, 'co...</td>\n",
              "    </tr>\n",
              "    <tr>\n",
              "      <th>8</th>\n",
              "      <td>8</td>\n",
              "      <td>9wzYQbTYsAIc</td>\n",
              "      <td>there’ someth javascript length files, group r...</td>\n",
              "      <td>{'neg': 0.0, 'neu': 0.945, 'pos': 0.055, 'comp...</td>\n",
              "    </tr>\n",
              "    <tr>\n",
              "      <th>9</th>\n",
              "      <td>9</td>\n",
              "      <td>Jonnax</td>\n",
              "      <td>would researching?especi databas privat data.</td>\n",
              "      <td>{'neg': 0.0, 'neu': 1.0, 'pos': 0.0, 'compound...</td>\n",
              "    </tr>\n",
              "  </tbody>\n",
              "</table>\n",
              "</div>"
            ],
            "text/plain": [
              "   Unnamed: 0  ...                                             Scores\n",
              "0           0  ...  {'neg': 0.142, 'neu': 0.828, 'pos': 0.03, 'com...\n",
              "1           1  ...  {'neg': 0.095, 'neu': 0.838, 'pos': 0.068, 'co...\n",
              "2           2  ...  {'neg': 0.123, 'neu': 0.677, 'pos': 0.201, 'co...\n",
              "3           3  ...  {'neg': 0.0, 'neu': 1.0, 'pos': 0.0, 'compound...\n",
              "4           4  ...  {'neg': 0.0, 'neu': 1.0, 'pos': 0.0, 'compound...\n",
              "5           5  ...  {'neg': 0.049, 'neu': 0.841, 'pos': 0.11, 'com...\n",
              "6           6  ...  {'neg': 0.0, 'neu': 1.0, 'pos': 0.0, 'compound...\n",
              "7           7  ...  {'neg': 0.057, 'neu': 0.816, 'pos': 0.127, 'co...\n",
              "8           8  ...  {'neg': 0.0, 'neu': 0.945, 'pos': 0.055, 'comp...\n",
              "9           9  ...  {'neg': 0.0, 'neu': 1.0, 'pos': 0.0, 'compound...\n",
              "\n",
              "[10 rows x 4 columns]"
            ]
          },
          "metadata": {
            "tags": []
          },
          "execution_count": 14
        }
      ]
    },
    {
      "cell_type": "code",
      "metadata": {
        "id": "bgih8kziBX8Y",
        "colab_type": "code",
        "colab": {}
      },
      "source": [
        "df[['neg', 'neu', 'pos', 'compound']] = df.Scores.apply(pd.Series)"
      ],
      "execution_count": 0,
      "outputs": []
    },
    {
      "cell_type": "code",
      "metadata": {
        "id": "DPDgYwxXBcLW",
        "colab_type": "code",
        "colab": {
          "base_uri": "https://localhost:8080/",
          "height": 699
        },
        "outputId": "828bbaae-a3bc-44d8-a386-feabab25513e"
      },
      "source": [
        "#sort\n",
        "for text in df.sort_values(by='neg', ascending=False)['Text'].head(20):\n",
        "    print(text, '\\n')"
      ],
      "execution_count": 16,
      "outputs": [
        {
          "output_type": "stream",
          "text": [
            "no, \n",
            "\n",
            "fuck amp fuck google. \n",
            "\n",
            "need turn alarm though :( \n",
            "\n",
            "hate amazon again? \n",
            "\n",
            "conclusion. could done (arrest spi terrorists). bomb civilian reprehensible, 'safeguarding' terrorist pretti vile. \n",
            "\n",
            "john carreyou: bad blood. \n",
            "\n",
            "stop, we'r done. \n",
            "\n",
            "behavior et compar set kill signal ssh config? sometim kill signal get kill half hour longer. \n",
            "\n",
            "text editor user wrong. \n",
            "\n",
            "lol... keep poor mad... \n",
            "\n",
            "includ death covid-19 total involv similar symptoms. lot problem caus pneumonia cardiac arrest, said pneumonia patient test negative. appar healthi peopl die suddenli time, sadly. \n",
            "\n",
            "softbank massiv fuck one. feel bad current employees. https://news.ycombinator.com/item?id=14783521 \n",
            "\n",
            "beethoven bigger \"piano\". also, littl outrag thread - sadness, resignation, head shake sure, outrage. \n",
            "\n",
            "wouldn’t 256^256? that’ certainli hell haystack \n",
            "\n",
            "patent would reject presum \n",
            "\n",
            "oops, sorry, stupid blunder. thank correction. \n",
            "\n",
            "author writing, section, blind (i.e. path) attacks. given attack model off-path see challeng ack. \n",
            "\n",
            "tri racist, twitter term fake ai startup (start one indian man). \n",
            "\n",
            "22% death offici report india . .. \n",
            "\n",
            "nyc current 1462 death per million. \n",
            "\n"
          ],
          "name": "stdout"
        }
      ]
    },
    {
      "cell_type": "code",
      "metadata": {
        "id": "1tmZAlbEEvEV",
        "colab_type": "code",
        "colab": {
          "base_uri": "https://localhost:8080/",
          "height": 870
        },
        "outputId": "f08971a3-85dc-4a07-9223-afc4e477d328"
      },
      "source": [
        "df['len'] = df['Text'].str.len()  # Store string length of each sample\n",
        "df.head(10)"
      ],
      "execution_count": 17,
      "outputs": [
        {
          "output_type": "execute_result",
          "data": {
            "text/html": [
              "<div>\n",
              "<style scoped>\n",
              "    .dataframe tbody tr th:only-of-type {\n",
              "        vertical-align: middle;\n",
              "    }\n",
              "\n",
              "    .dataframe tbody tr th {\n",
              "        vertical-align: top;\n",
              "    }\n",
              "\n",
              "    .dataframe thead th {\n",
              "        text-align: right;\n",
              "    }\n",
              "</style>\n",
              "<table border=\"1\" class=\"dataframe\">\n",
              "  <thead>\n",
              "    <tr style=\"text-align: right;\">\n",
              "      <th></th>\n",
              "      <th>Unnamed: 0</th>\n",
              "      <th>User</th>\n",
              "      <th>Text</th>\n",
              "      <th>Scores</th>\n",
              "      <th>neg</th>\n",
              "      <th>neu</th>\n",
              "      <th>pos</th>\n",
              "      <th>compound</th>\n",
              "      <th>len</th>\n",
              "    </tr>\n",
              "  </thead>\n",
              "  <tbody>\n",
              "    <tr>\n",
              "      <th>0</th>\n",
              "      <td>0</td>\n",
              "      <td>thu2111</td>\n",
              "      <td>peopl criticis epidemiologist same? immedi hol...</td>\n",
              "      <td>{'neg': 0.142, 'neu': 0.828, 'pos': 0.03, 'com...</td>\n",
              "      <td>0.142</td>\n",
              "      <td>0.828</td>\n",
              "      <td>0.030</td>\n",
              "      <td>-0.9428</td>\n",
              "      <td>947</td>\n",
              "    </tr>\n",
              "    <tr>\n",
              "      <th>1</th>\n",
              "      <td>1</td>\n",
              "      <td>noisy_boy</td>\n",
              "      <td>like aliexpress time even chat manufacturer/di...</td>\n",
              "      <td>{'neg': 0.095, 'neu': 0.838, 'pos': 0.068, 'co...</td>\n",
              "      <td>0.095</td>\n",
              "      <td>0.838</td>\n",
              "      <td>0.068</td>\n",
              "      <td>-0.0000</td>\n",
              "      <td>270</td>\n",
              "    </tr>\n",
              "    <tr>\n",
              "      <th>2</th>\n",
              "      <td>2</td>\n",
              "      <td>lopis</td>\n",
              "      <td>realli matter. progress season slow enough get...</td>\n",
              "      <td>{'neg': 0.123, 'neu': 0.677, 'pos': 0.201, 'co...</td>\n",
              "      <td>0.123</td>\n",
              "      <td>0.677</td>\n",
              "      <td>0.201</td>\n",
              "      <td>0.4767</td>\n",
              "      <td>193</td>\n",
              "    </tr>\n",
              "    <tr>\n",
              "      <th>3</th>\n",
              "      <td>3</td>\n",
              "      <td>aexol</td>\n",
              "      <td>ad doc gener graphql editor. https://twitter.c...</td>\n",
              "      <td>{'neg': 0.0, 'neu': 1.0, 'pos': 0.0, 'compound...</td>\n",
              "      <td>0.000</td>\n",
              "      <td>1.000</td>\n",
              "      <td>0.000</td>\n",
              "      <td>0.0000</td>\n",
              "      <td>169</td>\n",
              "    </tr>\n",
              "    <tr>\n",
              "      <th>4</th>\n",
              "      <td>4</td>\n",
              "      <td>frockington1</td>\n",
              "      <td>haven;t seen non sensation evid regard long te...</td>\n",
              "      <td>{'neg': 0.0, 'neu': 1.0, 'pos': 0.0, 'compound...</td>\n",
              "      <td>0.000</td>\n",
              "      <td>1.000</td>\n",
              "      <td>0.000</td>\n",
              "      <td>0.0000</td>\n",
              "      <td>127</td>\n",
              "    </tr>\n",
              "    <tr>\n",
              "      <th>5</th>\n",
              "      <td>5</td>\n",
              "      <td>alpaca128</td>\n",
              "      <td>&gt; amazon compani reliabl show they'll deliver,...</td>\n",
              "      <td>{'neg': 0.049, 'neu': 0.841, 'pos': 0.11, 'com...</td>\n",
              "      <td>0.049</td>\n",
              "      <td>0.841</td>\n",
              "      <td>0.110</td>\n",
              "      <td>0.4215</td>\n",
              "      <td>360</td>\n",
              "    </tr>\n",
              "    <tr>\n",
              "      <th>6</th>\n",
              "      <td>6</td>\n",
              "      <td>alkonaut</td>\n",
              "      <td>normal water heater?apart simplest model might...</td>\n",
              "      <td>{'neg': 0.0, 'neu': 1.0, 'pos': 0.0, 'compound...</td>\n",
              "      <td>0.000</td>\n",
              "      <td>1.000</td>\n",
              "      <td>0.000</td>\n",
              "      <td>0.0000</td>\n",
              "      <td>149</td>\n",
              "    </tr>\n",
              "    <tr>\n",
              "      <th>7</th>\n",
              "      <td>7</td>\n",
              "      <td>giantg2</td>\n",
              "      <td>yes, that' textbook scenario make sens economi...</td>\n",
              "      <td>{'neg': 0.057, 'neu': 0.816, 'pos': 0.127, 'co...</td>\n",
              "      <td>0.057</td>\n",
              "      <td>0.816</td>\n",
              "      <td>0.127</td>\n",
              "      <td>0.8781</td>\n",
              "      <td>1161</td>\n",
              "    </tr>\n",
              "    <tr>\n",
              "      <th>8</th>\n",
              "      <td>8</td>\n",
              "      <td>9wzYQbTYsAIc</td>\n",
              "      <td>there’ someth javascript length files, group r...</td>\n",
              "      <td>{'neg': 0.0, 'neu': 0.945, 'pos': 0.055, 'comp...</td>\n",
              "      <td>0.000</td>\n",
              "      <td>0.945</td>\n",
              "      <td>0.055</td>\n",
              "      <td>0.1779</td>\n",
              "      <td>208</td>\n",
              "    </tr>\n",
              "    <tr>\n",
              "      <th>9</th>\n",
              "      <td>9</td>\n",
              "      <td>Jonnax</td>\n",
              "      <td>would researching?especi databas privat data.</td>\n",
              "      <td>{'neg': 0.0, 'neu': 1.0, 'pos': 0.0, 'compound...</td>\n",
              "      <td>0.000</td>\n",
              "      <td>1.000</td>\n",
              "      <td>0.000</td>\n",
              "      <td>0.0000</td>\n",
              "      <td>45</td>\n",
              "    </tr>\n",
              "  </tbody>\n",
              "</table>\n",
              "</div>"
            ],
            "text/plain": [
              "   Unnamed: 0          User  ... compound   len\n",
              "0           0       thu2111  ...  -0.9428   947\n",
              "1           1     noisy_boy  ...  -0.0000   270\n",
              "2           2         lopis  ...   0.4767   193\n",
              "3           3         aexol  ...   0.0000   169\n",
              "4           4  frockington1  ...   0.0000   127\n",
              "5           5     alpaca128  ...   0.4215   360\n",
              "6           6      alkonaut  ...   0.0000   149\n",
              "7           7       giantg2  ...   0.8781  1161\n",
              "8           8  9wzYQbTYsAIc  ...   0.1779   208\n",
              "9           9        Jonnax  ...   0.0000    45\n",
              "\n",
              "[10 rows x 9 columns]"
            ]
          },
          "metadata": {
            "tags": []
          },
          "execution_count": 17
        }
      ]
    },
    {
      "cell_type": "code",
      "metadata": {
        "id": "omPhMoyABhAi",
        "colab_type": "code",
        "colab": {
          "base_uri": "https://localhost:8080/",
          "height": 870
        },
        "outputId": "1fbc381a-e8a9-48b0-ba5a-7396f518bbf0"
      },
      "source": [
        "#check\n",
        "df.head(10)"
      ],
      "execution_count": 18,
      "outputs": [
        {
          "output_type": "execute_result",
          "data": {
            "text/html": [
              "<div>\n",
              "<style scoped>\n",
              "    .dataframe tbody tr th:only-of-type {\n",
              "        vertical-align: middle;\n",
              "    }\n",
              "\n",
              "    .dataframe tbody tr th {\n",
              "        vertical-align: top;\n",
              "    }\n",
              "\n",
              "    .dataframe thead th {\n",
              "        text-align: right;\n",
              "    }\n",
              "</style>\n",
              "<table border=\"1\" class=\"dataframe\">\n",
              "  <thead>\n",
              "    <tr style=\"text-align: right;\">\n",
              "      <th></th>\n",
              "      <th>Unnamed: 0</th>\n",
              "      <th>User</th>\n",
              "      <th>Text</th>\n",
              "      <th>Scores</th>\n",
              "      <th>neg</th>\n",
              "      <th>neu</th>\n",
              "      <th>pos</th>\n",
              "      <th>compound</th>\n",
              "      <th>len</th>\n",
              "    </tr>\n",
              "  </thead>\n",
              "  <tbody>\n",
              "    <tr>\n",
              "      <th>0</th>\n",
              "      <td>0</td>\n",
              "      <td>thu2111</td>\n",
              "      <td>peopl criticis epidemiologist same? immedi hol...</td>\n",
              "      <td>{'neg': 0.142, 'neu': 0.828, 'pos': 0.03, 'com...</td>\n",
              "      <td>0.142</td>\n",
              "      <td>0.828</td>\n",
              "      <td>0.030</td>\n",
              "      <td>-0.9428</td>\n",
              "      <td>947</td>\n",
              "    </tr>\n",
              "    <tr>\n",
              "      <th>1</th>\n",
              "      <td>1</td>\n",
              "      <td>noisy_boy</td>\n",
              "      <td>like aliexpress time even chat manufacturer/di...</td>\n",
              "      <td>{'neg': 0.095, 'neu': 0.838, 'pos': 0.068, 'co...</td>\n",
              "      <td>0.095</td>\n",
              "      <td>0.838</td>\n",
              "      <td>0.068</td>\n",
              "      <td>-0.0000</td>\n",
              "      <td>270</td>\n",
              "    </tr>\n",
              "    <tr>\n",
              "      <th>2</th>\n",
              "      <td>2</td>\n",
              "      <td>lopis</td>\n",
              "      <td>realli matter. progress season slow enough get...</td>\n",
              "      <td>{'neg': 0.123, 'neu': 0.677, 'pos': 0.201, 'co...</td>\n",
              "      <td>0.123</td>\n",
              "      <td>0.677</td>\n",
              "      <td>0.201</td>\n",
              "      <td>0.4767</td>\n",
              "      <td>193</td>\n",
              "    </tr>\n",
              "    <tr>\n",
              "      <th>3</th>\n",
              "      <td>3</td>\n",
              "      <td>aexol</td>\n",
              "      <td>ad doc gener graphql editor. https://twitter.c...</td>\n",
              "      <td>{'neg': 0.0, 'neu': 1.0, 'pos': 0.0, 'compound...</td>\n",
              "      <td>0.000</td>\n",
              "      <td>1.000</td>\n",
              "      <td>0.000</td>\n",
              "      <td>0.0000</td>\n",
              "      <td>169</td>\n",
              "    </tr>\n",
              "    <tr>\n",
              "      <th>4</th>\n",
              "      <td>4</td>\n",
              "      <td>frockington1</td>\n",
              "      <td>haven;t seen non sensation evid regard long te...</td>\n",
              "      <td>{'neg': 0.0, 'neu': 1.0, 'pos': 0.0, 'compound...</td>\n",
              "      <td>0.000</td>\n",
              "      <td>1.000</td>\n",
              "      <td>0.000</td>\n",
              "      <td>0.0000</td>\n",
              "      <td>127</td>\n",
              "    </tr>\n",
              "    <tr>\n",
              "      <th>5</th>\n",
              "      <td>5</td>\n",
              "      <td>alpaca128</td>\n",
              "      <td>&gt; amazon compani reliabl show they'll deliver,...</td>\n",
              "      <td>{'neg': 0.049, 'neu': 0.841, 'pos': 0.11, 'com...</td>\n",
              "      <td>0.049</td>\n",
              "      <td>0.841</td>\n",
              "      <td>0.110</td>\n",
              "      <td>0.4215</td>\n",
              "      <td>360</td>\n",
              "    </tr>\n",
              "    <tr>\n",
              "      <th>6</th>\n",
              "      <td>6</td>\n",
              "      <td>alkonaut</td>\n",
              "      <td>normal water heater?apart simplest model might...</td>\n",
              "      <td>{'neg': 0.0, 'neu': 1.0, 'pos': 0.0, 'compound...</td>\n",
              "      <td>0.000</td>\n",
              "      <td>1.000</td>\n",
              "      <td>0.000</td>\n",
              "      <td>0.0000</td>\n",
              "      <td>149</td>\n",
              "    </tr>\n",
              "    <tr>\n",
              "      <th>7</th>\n",
              "      <td>7</td>\n",
              "      <td>giantg2</td>\n",
              "      <td>yes, that' textbook scenario make sens economi...</td>\n",
              "      <td>{'neg': 0.057, 'neu': 0.816, 'pos': 0.127, 'co...</td>\n",
              "      <td>0.057</td>\n",
              "      <td>0.816</td>\n",
              "      <td>0.127</td>\n",
              "      <td>0.8781</td>\n",
              "      <td>1161</td>\n",
              "    </tr>\n",
              "    <tr>\n",
              "      <th>8</th>\n",
              "      <td>8</td>\n",
              "      <td>9wzYQbTYsAIc</td>\n",
              "      <td>there’ someth javascript length files, group r...</td>\n",
              "      <td>{'neg': 0.0, 'neu': 0.945, 'pos': 0.055, 'comp...</td>\n",
              "      <td>0.000</td>\n",
              "      <td>0.945</td>\n",
              "      <td>0.055</td>\n",
              "      <td>0.1779</td>\n",
              "      <td>208</td>\n",
              "    </tr>\n",
              "    <tr>\n",
              "      <th>9</th>\n",
              "      <td>9</td>\n",
              "      <td>Jonnax</td>\n",
              "      <td>would researching?especi databas privat data.</td>\n",
              "      <td>{'neg': 0.0, 'neu': 1.0, 'pos': 0.0, 'compound...</td>\n",
              "      <td>0.000</td>\n",
              "      <td>1.000</td>\n",
              "      <td>0.000</td>\n",
              "      <td>0.0000</td>\n",
              "      <td>45</td>\n",
              "    </tr>\n",
              "  </tbody>\n",
              "</table>\n",
              "</div>"
            ],
            "text/plain": [
              "   Unnamed: 0          User  ... compound   len\n",
              "0           0       thu2111  ...  -0.9428   947\n",
              "1           1     noisy_boy  ...  -0.0000   270\n",
              "2           2         lopis  ...   0.4767   193\n",
              "3           3         aexol  ...   0.0000   169\n",
              "4           4  frockington1  ...   0.0000   127\n",
              "5           5     alpaca128  ...   0.4215   360\n",
              "6           6      alkonaut  ...   0.0000   149\n",
              "7           7       giantg2  ...   0.8781  1161\n",
              "8           8  9wzYQbTYsAIc  ...   0.1779   208\n",
              "9           9        Jonnax  ...   0.0000    45\n",
              "\n",
              "[10 rows x 9 columns]"
            ]
          },
          "metadata": {
            "tags": []
          },
          "execution_count": 18
        }
      ]
    },
    {
      "cell_type": "code",
      "metadata": {
        "id": "7MidyhAUBiah",
        "colab_type": "code",
        "colab": {}
      },
      "source": [
        "# #textblob\n",
        "# def textblob_score(sentence):\n",
        "#     return TextBlob(sentence).sentiment.polarity"
      ],
      "execution_count": 0,
      "outputs": []
    },
    {
      "cell_type": "code",
      "metadata": {
        "id": "5vIVimYcCcsS",
        "colab_type": "code",
        "colab": {}
      },
      "source": [
        "# # Convert textblob sentiment score\n",
        "# df['textblob_score'] = df['Text'].apply(textblob_score)\n",
        "# # Convert float score to category based on binning\n",
        "# df['textblob_pred'] = pd.cut(df['textblob_score'], bins=5, labels=[1, 2, 3, 4, 5])\n",
        "# df = df.drop('textblob_score', axis=1)\n",
        "# df.head()"
      ],
      "execution_count": 0,
      "outputs": []
    },
    {
      "cell_type": "code",
      "metadata": {
        "id": "VnIviltgCkf8",
        "colab_type": "code",
        "colab": {}
      },
      "source": [
        "#define analyzer\n",
        "vader = SentimentIntensityAnalyzer()\n",
        "def score_vader(sentence, vader):\n",
        "    return vader.polarity_scores(sentence)['compound']"
      ],
      "execution_count": 0,
      "outputs": []
    },
    {
      "cell_type": "code",
      "metadata": {
        "id": "vfWgOStjCmo7",
        "colab_type": "code",
        "colab": {
          "base_uri": "https://localhost:8080/",
          "height": 974
        },
        "outputId": "21086e3c-3030-448f-e269-d56b28521315"
      },
      "source": [
        "# Calculate Vader sentiment score\n",
        "df['vader_score'] = df['Text'].apply(lambda x: score_vader(x, vader))\n",
        "# Convert float score to category based on binning\n",
        "df['vader_pred'] = pd.cut(df['vader_score'], bins=5, labels=[1, 2, 3, 4, 5])\n",
        "df = df.drop('vader_score', axis=1)\n",
        "df.head(20)"
      ],
      "execution_count": 23,
      "outputs": [
        {
          "output_type": "execute_result",
          "data": {
            "text/html": [
              "<div>\n",
              "<style scoped>\n",
              "    .dataframe tbody tr th:only-of-type {\n",
              "        vertical-align: middle;\n",
              "    }\n",
              "\n",
              "    .dataframe tbody tr th {\n",
              "        vertical-align: top;\n",
              "    }\n",
              "\n",
              "    .dataframe thead th {\n",
              "        text-align: right;\n",
              "    }\n",
              "</style>\n",
              "<table border=\"1\" class=\"dataframe\">\n",
              "  <thead>\n",
              "    <tr style=\"text-align: right;\">\n",
              "      <th></th>\n",
              "      <th>Unnamed: 0</th>\n",
              "      <th>User</th>\n",
              "      <th>Text</th>\n",
              "      <th>Scores</th>\n",
              "      <th>neg</th>\n",
              "      <th>neu</th>\n",
              "      <th>pos</th>\n",
              "      <th>compound</th>\n",
              "      <th>len</th>\n",
              "      <th>vader_pred</th>\n",
              "    </tr>\n",
              "  </thead>\n",
              "  <tbody>\n",
              "    <tr>\n",
              "      <th>0</th>\n",
              "      <td>0</td>\n",
              "      <td>thu2111</td>\n",
              "      <td>peopl criticis epidemiologist same? immedi hol...</td>\n",
              "      <td>{'neg': 0.142, 'neu': 0.828, 'pos': 0.03, 'com...</td>\n",
              "      <td>0.142</td>\n",
              "      <td>0.828</td>\n",
              "      <td>0.030</td>\n",
              "      <td>-0.9428</td>\n",
              "      <td>947</td>\n",
              "      <td>1</td>\n",
              "    </tr>\n",
              "    <tr>\n",
              "      <th>1</th>\n",
              "      <td>1</td>\n",
              "      <td>noisy_boy</td>\n",
              "      <td>like aliexpress time even chat manufacturer/di...</td>\n",
              "      <td>{'neg': 0.095, 'neu': 0.838, 'pos': 0.068, 'co...</td>\n",
              "      <td>0.095</td>\n",
              "      <td>0.838</td>\n",
              "      <td>0.068</td>\n",
              "      <td>-0.0000</td>\n",
              "      <td>270</td>\n",
              "      <td>3</td>\n",
              "    </tr>\n",
              "    <tr>\n",
              "      <th>2</th>\n",
              "      <td>2</td>\n",
              "      <td>lopis</td>\n",
              "      <td>realli matter. progress season slow enough get...</td>\n",
              "      <td>{'neg': 0.123, 'neu': 0.677, 'pos': 0.201, 'co...</td>\n",
              "      <td>0.123</td>\n",
              "      <td>0.677</td>\n",
              "      <td>0.201</td>\n",
              "      <td>0.4767</td>\n",
              "      <td>193</td>\n",
              "      <td>4</td>\n",
              "    </tr>\n",
              "    <tr>\n",
              "      <th>3</th>\n",
              "      <td>3</td>\n",
              "      <td>aexol</td>\n",
              "      <td>ad doc gener graphql editor. https://twitter.c...</td>\n",
              "      <td>{'neg': 0.0, 'neu': 1.0, 'pos': 0.0, 'compound...</td>\n",
              "      <td>0.000</td>\n",
              "      <td>1.000</td>\n",
              "      <td>0.000</td>\n",
              "      <td>0.0000</td>\n",
              "      <td>169</td>\n",
              "      <td>3</td>\n",
              "    </tr>\n",
              "    <tr>\n",
              "      <th>4</th>\n",
              "      <td>4</td>\n",
              "      <td>frockington1</td>\n",
              "      <td>haven;t seen non sensation evid regard long te...</td>\n",
              "      <td>{'neg': 0.0, 'neu': 1.0, 'pos': 0.0, 'compound...</td>\n",
              "      <td>0.000</td>\n",
              "      <td>1.000</td>\n",
              "      <td>0.000</td>\n",
              "      <td>0.0000</td>\n",
              "      <td>127</td>\n",
              "      <td>3</td>\n",
              "    </tr>\n",
              "    <tr>\n",
              "      <th>5</th>\n",
              "      <td>5</td>\n",
              "      <td>alpaca128</td>\n",
              "      <td>&gt; amazon compani reliabl show they'll deliver,...</td>\n",
              "      <td>{'neg': 0.049, 'neu': 0.841, 'pos': 0.11, 'com...</td>\n",
              "      <td>0.049</td>\n",
              "      <td>0.841</td>\n",
              "      <td>0.110</td>\n",
              "      <td>0.4215</td>\n",
              "      <td>360</td>\n",
              "      <td>4</td>\n",
              "    </tr>\n",
              "    <tr>\n",
              "      <th>6</th>\n",
              "      <td>6</td>\n",
              "      <td>alkonaut</td>\n",
              "      <td>normal water heater?apart simplest model might...</td>\n",
              "      <td>{'neg': 0.0, 'neu': 1.0, 'pos': 0.0, 'compound...</td>\n",
              "      <td>0.000</td>\n",
              "      <td>1.000</td>\n",
              "      <td>0.000</td>\n",
              "      <td>0.0000</td>\n",
              "      <td>149</td>\n",
              "      <td>3</td>\n",
              "    </tr>\n",
              "    <tr>\n",
              "      <th>7</th>\n",
              "      <td>7</td>\n",
              "      <td>giantg2</td>\n",
              "      <td>yes, that' textbook scenario make sens economi...</td>\n",
              "      <td>{'neg': 0.057, 'neu': 0.816, 'pos': 0.127, 'co...</td>\n",
              "      <td>0.057</td>\n",
              "      <td>0.816</td>\n",
              "      <td>0.127</td>\n",
              "      <td>0.8781</td>\n",
              "      <td>1161</td>\n",
              "      <td>5</td>\n",
              "    </tr>\n",
              "    <tr>\n",
              "      <th>8</th>\n",
              "      <td>8</td>\n",
              "      <td>9wzYQbTYsAIc</td>\n",
              "      <td>there’ someth javascript length files, group r...</td>\n",
              "      <td>{'neg': 0.0, 'neu': 0.945, 'pos': 0.055, 'comp...</td>\n",
              "      <td>0.000</td>\n",
              "      <td>0.945</td>\n",
              "      <td>0.055</td>\n",
              "      <td>0.1779</td>\n",
              "      <td>208</td>\n",
              "      <td>3</td>\n",
              "    </tr>\n",
              "    <tr>\n",
              "      <th>9</th>\n",
              "      <td>9</td>\n",
              "      <td>Jonnax</td>\n",
              "      <td>would researching?especi databas privat data.</td>\n",
              "      <td>{'neg': 0.0, 'neu': 1.0, 'pos': 0.0, 'compound...</td>\n",
              "      <td>0.000</td>\n",
              "      <td>1.000</td>\n",
              "      <td>0.000</td>\n",
              "      <td>0.0000</td>\n",
              "      <td>45</td>\n",
              "      <td>3</td>\n",
              "    </tr>\n",
              "    <tr>\n",
              "      <th>10</th>\n",
              "      <td>10</td>\n",
              "      <td>Chris2048</td>\n",
              "      <td>sure india?</td>\n",
              "      <td>{'neg': 0.0, 'neu': 0.303, 'pos': 0.697, 'comp...</td>\n",
              "      <td>0.000</td>\n",
              "      <td>0.303</td>\n",
              "      <td>0.697</td>\n",
              "      <td>0.3182</td>\n",
              "      <td>11</td>\n",
              "      <td>4</td>\n",
              "    </tr>\n",
              "    <tr>\n",
              "      <th>11</th>\n",
              "      <td>11</td>\n",
              "      <td>thu2111</td>\n",
              "      <td>no. prevent mass global quarantin never tri an...</td>\n",
              "      <td>{'neg': 0.094, 'neu': 0.858, 'pos': 0.047, 'co...</td>\n",
              "      <td>0.094</td>\n",
              "      <td>0.858</td>\n",
              "      <td>0.047</td>\n",
              "      <td>-0.2732</td>\n",
              "      <td>154</td>\n",
              "      <td>2</td>\n",
              "    </tr>\n",
              "    <tr>\n",
              "      <th>12</th>\n",
              "      <td>12</td>\n",
              "      <td>winkeltripel</td>\n",
              "      <td>&gt; trivial support correctlyback button work ev...</td>\n",
              "      <td>{'neg': 0.083, 'neu': 0.828, 'pos': 0.089, 'co...</td>\n",
              "      <td>0.083</td>\n",
              "      <td>0.828</td>\n",
              "      <td>0.089</td>\n",
              "      <td>0.2960</td>\n",
              "      <td>185</td>\n",
              "      <td>4</td>\n",
              "    </tr>\n",
              "    <tr>\n",
              "      <th>13</th>\n",
              "      <td>13</td>\n",
              "      <td>pjmlp</td>\n",
              "      <td>oberon linag place belong activ oberon.http://...</td>\n",
              "      <td>{'neg': 0.077, 'neu': 0.923, 'pos': 0.0, 'comp...</td>\n",
              "      <td>0.077</td>\n",
              "      <td>0.923</td>\n",
              "      <td>0.000</td>\n",
              "      <td>-0.2732</td>\n",
              "      <td>206</td>\n",
              "      <td>2</td>\n",
              "    </tr>\n",
              "    <tr>\n",
              "      <th>14</th>\n",
              "      <td>14</td>\n",
              "      <td>Waterluvian</td>\n",
              "      <td>websit seem want appl website. one murder phon...</td>\n",
              "      <td>{'neg': 0.265, 'neu': 0.62, 'pos': 0.115, 'com...</td>\n",
              "      <td>0.265</td>\n",
              "      <td>0.620</td>\n",
              "      <td>0.115</td>\n",
              "      <td>-0.8074</td>\n",
              "      <td>177</td>\n",
              "      <td>1</td>\n",
              "    </tr>\n",
              "    <tr>\n",
              "      <th>15</th>\n",
              "      <td>15</td>\n",
              "      <td>leejo</td>\n",
              "      <td>oh doubt - still take experi techniqu achiev g...</td>\n",
              "      <td>{'neg': 0.071, 'neu': 0.699, 'pos': 0.23, 'com...</td>\n",
              "      <td>0.071</td>\n",
              "      <td>0.699</td>\n",
              "      <td>0.230</td>\n",
              "      <td>0.9349</td>\n",
              "      <td>517</td>\n",
              "      <td>5</td>\n",
              "    </tr>\n",
              "    <tr>\n",
              "      <th>16</th>\n",
              "      <td>16</td>\n",
              "      <td>waynenilsen</td>\n",
              "      <td>post link msn mirror. sure long one stay up. e...</td>\n",
              "      <td>{'neg': 0.0, 'neu': 0.887, 'pos': 0.113, 'comp...</td>\n",
              "      <td>0.000</td>\n",
              "      <td>0.887</td>\n",
              "      <td>0.113</td>\n",
              "      <td>0.3182</td>\n",
              "      <td>150</td>\n",
              "      <td>4</td>\n",
              "    </tr>\n",
              "    <tr>\n",
              "      <th>17</th>\n",
              "      <td>17</td>\n",
              "      <td>cameronbrown</td>\n",
              "      <td>limit perspective, googl struggl top-down comm...</td>\n",
              "      <td>{'neg': 0.0, 'neu': 1.0, 'pos': 0.0, 'compound...</td>\n",
              "      <td>0.000</td>\n",
              "      <td>1.000</td>\n",
              "      <td>0.000</td>\n",
              "      <td>0.0000</td>\n",
              "      <td>98</td>\n",
              "      <td>3</td>\n",
              "    </tr>\n",
              "    <tr>\n",
              "      <th>18</th>\n",
              "      <td>18</td>\n",
              "      <td>asdkjh345fd</td>\n",
              "      <td>cours not. still type.functor f =&gt; (a -&gt; b) -&gt;...</td>\n",
              "      <td>{'neg': 0.0, 'neu': 1.0, 'pos': 0.0, 'compound...</td>\n",
              "      <td>0.000</td>\n",
              "      <td>1.000</td>\n",
              "      <td>0.000</td>\n",
              "      <td>0.0000</td>\n",
              "      <td>55</td>\n",
              "      <td>3</td>\n",
              "    </tr>\n",
              "    <tr>\n",
              "      <th>19</th>\n",
              "      <td>19</td>\n",
              "      <td>retSava</td>\n",
              "      <td>googl hangout meet us au participant, i'm swed...</td>\n",
              "      <td>{'neg': 0.0, 'neu': 1.0, 'pos': 0.0, 'compound...</td>\n",
              "      <td>0.000</td>\n",
              "      <td>1.000</td>\n",
              "      <td>0.000</td>\n",
              "      <td>0.0000</td>\n",
              "      <td>331</td>\n",
              "      <td>3</td>\n",
              "    </tr>\n",
              "  </tbody>\n",
              "</table>\n",
              "</div>"
            ],
            "text/plain": [
              "    Unnamed: 0          User  ...   len vader_pred\n",
              "0            0       thu2111  ...   947          1\n",
              "1            1     noisy_boy  ...   270          3\n",
              "2            2         lopis  ...   193          4\n",
              "3            3         aexol  ...   169          3\n",
              "4            4  frockington1  ...   127          3\n",
              "5            5     alpaca128  ...   360          4\n",
              "6            6      alkonaut  ...   149          3\n",
              "7            7       giantg2  ...  1161          5\n",
              "8            8  9wzYQbTYsAIc  ...   208          3\n",
              "9            9        Jonnax  ...    45          3\n",
              "10          10     Chris2048  ...    11          4\n",
              "11          11       thu2111  ...   154          2\n",
              "12          12  winkeltripel  ...   185          4\n",
              "13          13         pjmlp  ...   206          2\n",
              "14          14   Waterluvian  ...   177          1\n",
              "15          15         leejo  ...   517          5\n",
              "16          16   waynenilsen  ...   150          4\n",
              "17          17  cameronbrown  ...    98          3\n",
              "18          18   asdkjh345fd  ...    55          3\n",
              "19          19       retSava  ...   331          3\n",
              "\n",
              "[20 rows x 10 columns]"
            ]
          },
          "metadata": {
            "tags": []
          },
          "execution_count": 23
        }
      ]
    }
  ]
}