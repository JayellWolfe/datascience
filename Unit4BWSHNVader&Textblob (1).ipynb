{
  "nbformat": 4,
  "nbformat_minor": 0,
  "metadata": {
    "colab": {
      "name": "Unit4BWSHNVader&Textblob.ipynb",
      "provenance": [],
      "collapsed_sections": []
    },
    "kernelspec": {
      "name": "python3",
      "display_name": "Python 3"
    }
  },
  "cells": [
    {
      "cell_type": "code",
      "metadata": {
        "id": "q30bOnrc9j3e",
        "colab_type": "code",
        "colab": {
          "base_uri": "https://localhost:8080/",
          "height": 110
        },
        "outputId": "0ce58320-6c7b-4591-f3b7-aea60abb3fda"
      },
      "source": [
        "#imports\n",
        "import pandas as pd\n",
        "import numpy as np\n",
        "import matplotlib.pyplot as plt\n",
        "import nltk\n",
        "import random\n",
        "import re\n",
        "from nltk import word_tokenize, sent_tokenize\n",
        "from nltk.corpus import stopwords\n",
        "from nltk.stem import LancasterStemmer, WordNetLemmatizer, PorterStemmer\n",
        "from wordcloud import WordCloud, STOPWORDS\n",
        "from textblob import TextBlob,Word, Blobber\n",
        "nltk.download('stopwords')\n",
        "from nltk.sentiment.vader import SentimentIntensityAnalyzer\n",
        "from sklearn.metrics import f1_score, accuracy_score"
      ],
      "execution_count": 1,
      "outputs": [
        {
          "output_type": "stream",
          "text": [
            "[nltk_data] Downloading package stopwords to /root/nltk_data...\n",
            "[nltk_data]   Package stopwords is already up-to-date!\n"
          ],
          "name": "stdout"
        },
        {
          "output_type": "stream",
          "text": [
            "/usr/local/lib/python3.6/dist-packages/nltk/twitter/__init__.py:20: UserWarning: The twython library has not been installed. Some functionality from the twitter package will not be available.\n",
            "  warnings.warn(\"The twython library has not been installed. \"\n"
          ],
          "name": "stderr"
        }
      ]
    },
    {
      "cell_type": "code",
      "metadata": {
        "id": "DRU0BNr19oG_",
        "colab_type": "code",
        "colab": {
          "base_uri": "https://localhost:8080/",
          "height": 360
        },
        "outputId": "23473fe7-8501-4fba-9fa0-5111570f944a"
      },
      "source": [
        "# Read test data\n",
        "df = pd.read_csv('saltyhacker.csv')\n",
        "df.head(10)\n"
      ],
      "execution_count": 26,
      "outputs": [
        {
          "output_type": "execute_result",
          "data": {
            "text/html": [
              "<div>\n",
              "<style scoped>\n",
              "    .dataframe tbody tr th:only-of-type {\n",
              "        vertical-align: middle;\n",
              "    }\n",
              "\n",
              "    .dataframe tbody tr th {\n",
              "        vertical-align: top;\n",
              "    }\n",
              "\n",
              "    .dataframe thead th {\n",
              "        text-align: right;\n",
              "    }\n",
              "</style>\n",
              "<table border=\"1\" class=\"dataframe\">\n",
              "  <thead>\n",
              "    <tr style=\"text-align: right;\">\n",
              "      <th></th>\n",
              "      <th>Unnamed: 0</th>\n",
              "      <th>User</th>\n",
              "      <th>Text</th>\n",
              "    </tr>\n",
              "  </thead>\n",
              "  <tbody>\n",
              "    <tr>\n",
              "      <th>0</th>\n",
              "      <td>0</td>\n",
              "      <td>thu2111</td>\n",
              "      <td>Did those people criticise other epidemiologis...</td>\n",
              "    </tr>\n",
              "    <tr>\n",
              "      <th>1</th>\n",
              "      <td>1</td>\n",
              "      <td>noisy_boy</td>\n",
              "      <td>I like Aliexpress because most of the times I ...</td>\n",
              "    </tr>\n",
              "    <tr>\n",
              "      <th>2</th>\n",
              "      <td>2</td>\n",
              "      <td>lopis</td>\n",
              "      <td>Doesn&amp;#x27;t really matter. The progression of...</td>\n",
              "    </tr>\n",
              "    <tr>\n",
              "      <th>3</th>\n",
              "      <td>3</td>\n",
              "      <td>aexol</td>\n",
              "      <td>I have added docs generator for GraphQL Editor...</td>\n",
              "    </tr>\n",
              "    <tr>\n",
              "      <th>4</th>\n",
              "      <td>4</td>\n",
              "      <td>frockington1</td>\n",
              "      <td>I haven;t seen any non sensationalized evidenc...</td>\n",
              "    </tr>\n",
              "    <tr>\n",
              "      <th>5</th>\n",
              "      <td>5</td>\n",
              "      <td>alpaca128</td>\n",
              "      <td>&amp;gt; Amazon is the only company that reliably ...</td>\n",
              "    </tr>\n",
              "    <tr>\n",
              "      <th>6</th>\n",
              "      <td>6</td>\n",
              "      <td>alkonaut</td>\n",
              "      <td>Isn&amp;#x27;t this just a normal water heater?&lt;p&gt;...</td>\n",
              "    </tr>\n",
              "    <tr>\n",
              "      <th>7</th>\n",
              "      <td>7</td>\n",
              "      <td>giantg2</td>\n",
              "      <td>Yes, that&amp;#x27;s a textbook scenario that make...</td>\n",
              "    </tr>\n",
              "    <tr>\n",
              "      <th>8</th>\n",
              "      <td>8</td>\n",
              "      <td>9wzYQbTYsAIc</td>\n",
              "      <td>There’s something about JavaScript and the len...</td>\n",
              "    </tr>\n",
              "    <tr>\n",
              "      <th>9</th>\n",
              "      <td>9</td>\n",
              "      <td>Jonnax</td>\n",
              "      <td>What would they be researching?&lt;p&gt;Especially w...</td>\n",
              "    </tr>\n",
              "  </tbody>\n",
              "</table>\n",
              "</div>"
            ],
            "text/plain": [
              "   Unnamed: 0          User                                               Text\n",
              "0           0       thu2111  Did those people criticise other epidemiologis...\n",
              "1           1     noisy_boy  I like Aliexpress because most of the times I ...\n",
              "2           2         lopis  Doesn&#x27;t really matter. The progression of...\n",
              "3           3         aexol  I have added docs generator for GraphQL Editor...\n",
              "4           4  frockington1  I haven;t seen any non sensationalized evidenc...\n",
              "5           5     alpaca128  &gt; Amazon is the only company that reliably ...\n",
              "6           6      alkonaut  Isn&#x27;t this just a normal water heater?<p>...\n",
              "7           7       giantg2  Yes, that&#x27;s a textbook scenario that make...\n",
              "8           8  9wzYQbTYsAIc  There’s something about JavaScript and the len...\n",
              "9           9        Jonnax  What would they be researching?<p>Especially w..."
            ]
          },
          "metadata": {
            "tags": []
          },
          "execution_count": 26
        }
      ]
    },
    {
      "cell_type": "code",
      "metadata": {
        "id": "_dbxOt0lnTi6",
        "colab_type": "code",
        "colab": {}
      },
      "source": [
        "from nltk.sentiment.vader import SentimentIntensityAnalyzer\n",
        "def sentiment_value(paragraph):\n",
        "    analyser = SentimentIntensityAnalyzer()\n",
        "    result = analyser.polarity_scores(paragraph)\n",
        "    score = result['compound']\n",
        "    return round(score,1)"
      ],
      "execution_count": 0,
      "outputs": []
    },
    {
      "cell_type": "code",
      "metadata": {
        "id": "4rTcjND1nCtL",
        "colab_type": "code",
        "colab": {
          "base_uri": "https://localhost:8080/",
          "height": 92
        },
        "outputId": "0d452b8a-d5ad-4cc8-8bb1-41a5d5a7d7a9"
      },
      "source": [
        "sample = df['Text'][1243]\n",
        "print(sample)\n",
        "print('Sentiment: ')\n",
        "print(sentiment_value(sample))"
      ],
      "execution_count": 33,
      "outputs": [
        {
          "output_type": "stream",
          "text": [
            "My point is about rates... COVID is less lethal than the Flu even if it&#x27;s temporarily causing more damage because it&#x27;s new.<p>You said nothing about death rates? I did... the rates are very important when it comes to decisions about whether or not we should lose our collective shit over it or not.<p>Something that&#x27;s more communicable than others but less lethal than the flu? We can&#x27;t contain it and shutting the country down is going to destroy more lives and cause more damage than COVID.<p>My original post was that COVID is less lethal. And it is turning out, that with more information coming out each day, this is true.<p>My definition of Less lethal = deaths &#x2F; infection count.<p>I&#x27;d also add that it&#x27;s hard to take current COVID death counts serious when hospitals across the country get paid more for COVID cases.<p>It&#x27;s hard to not see hospitals that are hurting for money turn down 30% more money for the same cases.\n",
            "Sentiment: \n",
            "-0.9\n"
          ],
          "name": "stdout"
        }
      ]
    },
    {
      "cell_type": "code",
      "metadata": {
        "id": "NETqFC9R-v_z",
        "colab_type": "code",
        "colab": {}
      },
      "source": [
        "def print_accuracy(dhn, pred_column):\n",
        "    \"Print accuracy after making predictions\"\n",
        "    acc = accuracy_score(['Text'], df[pred_column])*100\n",
        "    return acc"
      ],
      "execution_count": 0,
      "outputs": []
    },
    {
      "cell_type": "code",
      "metadata": {
        "id": "Q6dkwXxEGnZp",
        "colab_type": "code",
        "colab": {}
      },
      "source": [
        "#textblob\n",
        "def textblob_score(sentence):\n",
        "    return TextBlob(sentence).sentiment.polarity"
      ],
      "execution_count": 0,
      "outputs": []
    },
    {
      "cell_type": "code",
      "metadata": {
        "id": "iAw86PXQI92y",
        "colab_type": "code",
        "colab": {}
      },
      "source": [
        "#convert to string\n",
        "df['Text'] = df['Text'].astype(str)"
      ],
      "execution_count": 0,
      "outputs": []
    },
    {
      "cell_type": "code",
      "metadata": {
        "id": "fUzpzPvcGpiJ",
        "colab_type": "code",
        "colab": {
          "base_uri": "https://localhost:8080/",
          "height": 204
        },
        "outputId": "01a52612-1979-4f53-e868-ab5d5521f00e"
      },
      "source": [
        "# Convert textblob sentiment score\n",
        "df['textblob_score'] = df['Text'].apply(textblob_score)\n",
        "# Convert float score to category based on binning\n",
        "df['textblob_pred'] = pd.cut(df['textblob_score'], bins=5, labels=[1, 2, 3, 4, 5])\n",
        "df = df.drop('textblob_score', axis=1)\n",
        "df.head()"
      ],
      "execution_count": 10,
      "outputs": [
        {
          "output_type": "execute_result",
          "data": {
            "text/html": [
              "<div>\n",
              "<style scoped>\n",
              "    .dataframe tbody tr th:only-of-type {\n",
              "        vertical-align: middle;\n",
              "    }\n",
              "\n",
              "    .dataframe tbody tr th {\n",
              "        vertical-align: top;\n",
              "    }\n",
              "\n",
              "    .dataframe thead th {\n",
              "        text-align: right;\n",
              "    }\n",
              "</style>\n",
              "<table border=\"1\" class=\"dataframe\">\n",
              "  <thead>\n",
              "    <tr style=\"text-align: right;\">\n",
              "      <th></th>\n",
              "      <th>Unnamed: 0</th>\n",
              "      <th>User</th>\n",
              "      <th>Text</th>\n",
              "      <th>textblob_pred</th>\n",
              "    </tr>\n",
              "  </thead>\n",
              "  <tbody>\n",
              "    <tr>\n",
              "      <th>0</th>\n",
              "      <td>0</td>\n",
              "      <td>thu2111</td>\n",
              "      <td>Did those people criticise other epidemiologis...</td>\n",
              "      <td>3</td>\n",
              "    </tr>\n",
              "    <tr>\n",
              "      <th>1</th>\n",
              "      <td>1</td>\n",
              "      <td>noisy_boy</td>\n",
              "      <td>I like Aliexpress because most of the times I ...</td>\n",
              "      <td>3</td>\n",
              "    </tr>\n",
              "    <tr>\n",
              "      <th>2</th>\n",
              "      <td>2</td>\n",
              "      <td>lopis</td>\n",
              "      <td>Doesn&amp;#x27;t really matter. The progression of...</td>\n",
              "      <td>3</td>\n",
              "    </tr>\n",
              "    <tr>\n",
              "      <th>3</th>\n",
              "      <td>3</td>\n",
              "      <td>aexol</td>\n",
              "      <td>I have added docs generator for GraphQL Editor...</td>\n",
              "      <td>4</td>\n",
              "    </tr>\n",
              "    <tr>\n",
              "      <th>4</th>\n",
              "      <td>4</td>\n",
              "      <td>frockington1</td>\n",
              "      <td>I haven;t seen any non sensationalized evidenc...</td>\n",
              "      <td>4</td>\n",
              "    </tr>\n",
              "  </tbody>\n",
              "</table>\n",
              "</div>"
            ],
            "text/plain": [
              "   Unnamed: 0  ... textblob_pred\n",
              "0           0  ...             3\n",
              "1           1  ...             3\n",
              "2           2  ...             3\n",
              "3           3  ...             4\n",
              "4           4  ...             4\n",
              "\n",
              "[5 rows x 4 columns]"
            ]
          },
          "metadata": {
            "tags": []
          },
          "execution_count": 10
        }
      ]
    },
    {
      "cell_type": "code",
      "metadata": {
        "id": "WzUJ5ebtNO5n",
        "colab_type": "code",
        "colab": {}
      },
      "source": [
        "# # #Get model accuracy\n",
        "# acc = print_accuracy(df, 'textblob_pred')\n",
        "# print(\"Accuracy: {}\".format(acc[0], acc[1]))"
      ],
      "execution_count": 0,
      "outputs": []
    },
    {
      "cell_type": "code",
      "metadata": {
        "id": "wzhuzrZkJ2T2",
        "colab_type": "code",
        "colab": {
          "base_uri": "https://localhost:8080/",
          "height": 53
        },
        "outputId": "b1afb650-c50d-4bfd-a171-000895869f73"
      },
      "source": [
        "import nltk\n",
        "nltk.download('vader_lexicon')\n",
        "vader = SentimentIntensityAnalyzer()\n",
        "def score_vader(sentence, vader):\n",
        "    return vader.polarity_scores(sentence)['compound']"
      ],
      "execution_count": 11,
      "outputs": [
        {
          "output_type": "stream",
          "text": [
            "[nltk_data] Downloading package vader_lexicon to /root/nltk_data...\n",
            "[nltk_data]   Package vader_lexicon is already up-to-date!\n"
          ],
          "name": "stdout"
        }
      ]
    },
    {
      "cell_type": "code",
      "metadata": {
        "id": "H0hfk3CPLT3M",
        "colab_type": "code",
        "colab": {
          "base_uri": "https://localhost:8080/",
          "height": 204
        },
        "outputId": "8aa0d455-d275-4da2-c103-7419284b452e"
      },
      "source": [
        "# Calculate Vader sentiment score\n",
        "df['vader_score'] = df['Text'].apply(lambda x: score_vader(x, vader))\n",
        "# Convert float score to category based on binning\n",
        "df['vader_pred'] = pd.cut(df['vader_score'], bins=5, labels=[1, 2, 3, 4, 5])\n",
        "df = df.drop('vader_score', axis=1)\n",
        "df.head()"
      ],
      "execution_count": 12,
      "outputs": [
        {
          "output_type": "execute_result",
          "data": {
            "text/html": [
              "<div>\n",
              "<style scoped>\n",
              "    .dataframe tbody tr th:only-of-type {\n",
              "        vertical-align: middle;\n",
              "    }\n",
              "\n",
              "    .dataframe tbody tr th {\n",
              "        vertical-align: top;\n",
              "    }\n",
              "\n",
              "    .dataframe thead th {\n",
              "        text-align: right;\n",
              "    }\n",
              "</style>\n",
              "<table border=\"1\" class=\"dataframe\">\n",
              "  <thead>\n",
              "    <tr style=\"text-align: right;\">\n",
              "      <th></th>\n",
              "      <th>Unnamed: 0</th>\n",
              "      <th>User</th>\n",
              "      <th>Text</th>\n",
              "      <th>textblob_pred</th>\n",
              "      <th>vader_pred</th>\n",
              "    </tr>\n",
              "  </thead>\n",
              "  <tbody>\n",
              "    <tr>\n",
              "      <th>0</th>\n",
              "      <td>0</td>\n",
              "      <td>thu2111</td>\n",
              "      <td>Did those people criticise other epidemiologis...</td>\n",
              "      <td>3</td>\n",
              "      <td>1</td>\n",
              "    </tr>\n",
              "    <tr>\n",
              "      <th>1</th>\n",
              "      <td>1</td>\n",
              "      <td>noisy_boy</td>\n",
              "      <td>I like Aliexpress because most of the times I ...</td>\n",
              "      <td>3</td>\n",
              "      <td>3</td>\n",
              "    </tr>\n",
              "    <tr>\n",
              "      <th>2</th>\n",
              "      <td>2</td>\n",
              "      <td>lopis</td>\n",
              "      <td>Doesn&amp;#x27;t really matter. The progression of...</td>\n",
              "      <td>3</td>\n",
              "      <td>3</td>\n",
              "    </tr>\n",
              "    <tr>\n",
              "      <th>3</th>\n",
              "      <td>3</td>\n",
              "      <td>aexol</td>\n",
              "      <td>I have added docs generator for GraphQL Editor...</td>\n",
              "      <td>4</td>\n",
              "      <td>3</td>\n",
              "    </tr>\n",
              "    <tr>\n",
              "      <th>4</th>\n",
              "      <td>4</td>\n",
              "      <td>frockington1</td>\n",
              "      <td>I haven;t seen any non sensationalized evidenc...</td>\n",
              "      <td>4</td>\n",
              "      <td>3</td>\n",
              "    </tr>\n",
              "  </tbody>\n",
              "</table>\n",
              "</div>"
            ],
            "text/plain": [
              "   Unnamed: 0          User  ... textblob_pred vader_pred\n",
              "0           0       thu2111  ...             3          1\n",
              "1           1     noisy_boy  ...             3          3\n",
              "2           2         lopis  ...             3          3\n",
              "3           3         aexol  ...             4          3\n",
              "4           4  frockington1  ...             4          3\n",
              "\n",
              "[5 rows x 5 columns]"
            ]
          },
          "metadata": {
            "tags": []
          },
          "execution_count": 12
        }
      ]
    },
    {
      "cell_type": "code",
      "metadata": {
        "id": "bT10inpFNYqT",
        "colab_type": "code",
        "colab": {}
      },
      "source": [
        "# # # Get model accuracy \n",
        "# acc = print_accuracy(df, 'vader_pred')\n",
        "# print(\"Accuracy: {}\".format(acc[0], acc[1]))\n",
        "\n",
        "\n",
        "\n",
        "# # accuracy: (tp + tn) / (p + n)\n",
        "# accuracy = accuracy_score(df, 'vader_pred')\n",
        "# print('Accuracy: %f' % accuracy)\n",
        "\n",
        "# # f1: 2 tp / (2 tp + fp + fn)\n",
        "# f1 = f1_score(df, 'vader_pred')\n",
        "# print('F1 score: %f' % f1)"
      ],
      "execution_count": 0,
      "outputs": []
    },
    {
      "cell_type": "code",
      "metadata": {
        "id": "3LI2MQ9sZGb1",
        "colab_type": "code",
        "colab": {}
      },
      "source": [
        ""
      ],
      "execution_count": 0,
      "outputs": []
    }
  ]
}